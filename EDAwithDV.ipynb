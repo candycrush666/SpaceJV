{
 "cells": [
  {
   "cell_type": "code",
   "execution_count": null,
   "id": "8aa63475-c72e-4e73-adf0-dd12b623b223",
   "metadata": {},
   "outputs": [],
   "source": [
    "EDA with Data Visualization\n"
   ]
  },
  {
   "cell_type": "code",
   "execution_count": null,
   "id": "a56c5868-59d3-43a8-a410-22ea91db7ba6",
   "metadata": {},
   "outputs": [],
   "source": [
    "import pandas as pd\n",
    "import seaborn as sns\n",
    "import matplotlib.pyplot as plt\n",
    "\n",
    "# Cargar el dataset\n",
    "df = pd.read_csv(\"https://cf-courses-data.s3.us.cloud-object-storage.appdomain.cloud/IBM-DS0321EN-SkillsNetwork/datasets/dataset_part_2.csv\")\n",
    "\n",
    "# Gráfico 1: FlightNumber vs. LaunchSite (Scatter Point Chart)\n",
    "plt.figure(figsize=(12, 6))\n",
    "sns.scatterplot(data=df, x=\"FlightNumber\", y=\"LaunchSite\", hue=\"Class\")\n",
    "plt.xlabel(\"Flight Number\", fontsize=14)\n",
    "plt.ylabel(\"Launch Site\", fontsize=14)\n",
    "plt.title(\"Flight Number vs. Launch Site\", fontsize=16)\n",
    "plt.legend(title=\"Outcome\")\n",
    "plt.show()\n",
    "\n",
    "# Gráfico 2: Payload vs. LaunchSite (Scatter Point Chart)\n",
    "plt.figure(figsize=(12, 6))\n",
    "sns.scatterplot(data=df, x=\"PayloadMass\", y=\"LaunchSite\", hue=\"Class\")\n",
    "plt.xlabel(\"PayloadMass\", fontsize=14)\n",
    "plt.ylabel(\"Launch Site\", fontsize=14)\n",
    "plt.title(\"Payload vs. Launch Site\", fontsize=16)\n",
    "plt.legend(title=\"Outcome\")\n",
    "plt.show()\n",
    "\n",
    "# Gráfico 3: Success Rate of Each Orbit Type (Bar Chart)\n",
    "df_groupby_orbits = df.groupby('Orbit').Class.mean().sort_values(ascending=False).reset_index()\n",
    "plt.figure(figsize=(12, 6))\n",
    "sns.barplot(x='Orbit', y='Class', data=df_groupby_orbits)\n",
    "plt.xlabel(\"Orbit\", fontsize=14)\n",
    "plt.ylabel(\"Success Rate\", fontsize=14)\n",
    "plt.title(\"Success Rate of Each Orbit Type\", fontsize=16)\n",
    "plt.xticks(rotation=45)\n",
    "plt.show()\n",
    "\n",
    "# Gráfico 4: FlightNumber vs. Orbit Type (Scatter Point Chart)\n",
    "plt.figure(figsize=(12, 6))\n",
    "sns.scatterplot(data=df, x=\"FlightNumber\", y=\"Orbit\", hue=\"Class\")\n",
    "plt.xlabel(\"Flight Number\", fontsize=14)\n",
    "plt.ylabel(\"Orbit\", fontsize=14)\n",
    "plt.title(\"Flight Number vs. Orbit Type\", fontsize=16)\n",
    "plt.legend(title=\"Outcome\")\n",
    "plt.show()\n",
    "\n",
    "# Gráfico 5: Payload vs. Orbit Type (Scatter Point Chart)\n",
    "plt.figure(figsize=(12, 6))\n",
    "sns.scatterplot(data=df, x=\"PayloadMass\", y=\"Orbit\", hue=\"Class\")\n",
    "plt.xlabel(\"PayloadMass\", fontsize=14)\n",
    "plt.ylabel(\"Orbit\", fontsize=14)\n",
    "plt.title(\"Payload vs. Orbit Type\", fontsize=16)\n",
    "plt.legend(title=\"Outcome\")\n",
    "plt.show()\n",
    "\n",
    "# Gráfico 6: Launch Success Yearly Trend (Line Chart)\n",
    "df['Extracted_year'] = pd.to_datetime(df['Date']).dt.year\n",
    "df_yearly_success = df.groupby('Extracted_year').Class.mean().reset_index()\n",
    "plt.figure(figsize=(12, 6))\n",
    "sns.lineplot(data=df_yearly_success, x='Extracted_year', y='Class', marker='o')\n",
    "plt.xlabel(\"Year\", fontsize=14)\n",
    "plt.ylabel(\"Average Success Rate\", fontsize=14)\n",
    "plt.title(\"Launch Success Yearly Trend\", fontsize=16)\n",
    "plt.xticks(df_yearly_success['Extracted_year'])\n",
    "plt.grid(True)\n",
    "plt.show()\n"
   ]
  },
  {
   "cell_type": "code",
   "execution_count": null,
   "id": "55cf740a-4338-4bb4-999f-adf214d27c2a",
   "metadata": {},
   "outputs": [],
   "source": [
    "Output:"
   ]
  },
  {
   "cell_type": "code",
   "execution_count": null,
   "id": "e26a17fa-2f97-4f3d-a474-9f04cf3e82ae",
   "metadata": {},
   "outputs": [],
   "source": [
    "C:\\Users\\jorge\\PycharmProjects\\SpaceTry1\\.venv\\Scripts\\python.exe C:\\Users\\jorge\\PycharmProjects\\SpaceTry1\\.venv\\Scripts\\Prueba4.py \n",
    "\n",
    "Process finished with exit code 0\n"
   ]
  },
  {
   "cell_type": "code",
   "execution_count": null,
   "id": "fcae1fd9-e6e3-4b1c-a4af-275f1d8f5e97",
   "metadata": {},
   "outputs": [],
   "source": [
    "6 Graphs are gen"
   ]
  }
 ],
 "metadata": {
  "kernelspec": {
   "display_name": "Python 3 (ipykernel)",
   "language": "python",
   "name": "python3"
  },
  "language_info": {
   "codemirror_mode": {
    "name": "ipython",
    "version": 3
   },
   "file_extension": ".py",
   "mimetype": "text/x-python",
   "name": "python",
   "nbconvert_exporter": "python",
   "pygments_lexer": "ipython3",
   "version": "3.12.0"
  }
 },
 "nbformat": 4,
 "nbformat_minor": 5
}
